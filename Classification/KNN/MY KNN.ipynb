{
 "cells": [
  {
   "cell_type": "markdown",
   "metadata": {},
   "source": [
    "## K-Nearest Neighbors\n",
    "\n",
    "Steps To Follow:\n",
    "\n",
    "1.Choose the no of K Neighbors, Default-5\n",
    "\n",
    "2.Take the K Neasrest Neighbors of New Data According to Euclidene Distance \n",
    "\n",
    "3.Among those K Neighbors count the no of data point in Each Category Ex-5 Neighbors are there,3 Neighbors belong to class 0,2 Neighbors Belong to class-1,then our new data will belong to class 0.(As class 0 has maximum voting )\n",
    "\n",
    "4.To which category maximun voting has done,that will be a pedicted class.\n",
    "\n",
    "5.For regression Problem Y_pred will be Mean of K Nearest Neighbors \n"
   ]
  },
  {
   "cell_type": "markdown",
   "metadata": {},
   "source": [
    "## Importing the Libraries"
   ]
  },
  {
   "cell_type": "code",
   "execution_count": 1,
   "metadata": {},
   "outputs": [],
   "source": [
    "import numpy as np\n",
    "import matplotlib.pyplot as plt\n",
    "import pandas as pd"
   ]
  },
  {
   "cell_type": "markdown",
   "metadata": {},
   "source": [
    "## Importing the Dataset"
   ]
  },
  {
   "cell_type": "code",
   "execution_count": 2,
   "metadata": {},
   "outputs": [],
   "source": [
    "dataset=pd.read_csv(r'C:\\Users\\Machine Learning\\Classification\\My Logistic Regression\\Social_Network_Ads.csv')\n",
    "X=dataset.iloc[:,:-1].values\n",
    "y=dataset.iloc[:,-1].values"
   ]
  },
  {
   "cell_type": "markdown",
   "metadata": {},
   "source": [
    "## Spliting Dataset Into Training And Test "
   ]
  },
  {
   "cell_type": "code",
   "execution_count": 3,
   "metadata": {},
   "outputs": [],
   "source": [
    "from sklearn.model_selection import train_test_split\n",
    "X_train,X_test,y_train,y_test =train_test_split(X,y,test_size=0.2, random_state=0)"
   ]
  },
  {
   "cell_type": "code",
   "execution_count": 4,
   "metadata": {},
   "outputs": [
    {
     "data": {
      "text/plain": [
       "array([[    35,  27000],\n",
       "       [    54, 104000],\n",
       "       [    35,  61000],\n",
       "       [    32,  18000],\n",
       "       [    42,  73000],\n",
       "       [    35,  79000],\n",
       "       [    46,  79000],\n",
       "       [    45, 131000],\n",
       "       [    41,  80000],\n",
       "       [    31,  15000],\n",
       "       [    19,  19000],\n",
       "       [    26,  72000],\n",
       "       [    33,  69000],\n",
       "       [    35,  59000],\n",
       "       [    25,  80000],\n",
       "       [    27,  57000],\n",
       "       [    34,  43000],\n",
       "       [    26,  84000],\n",
       "       [    60,  34000],\n",
       "       [    36,  99000],\n",
       "       [    35,  71000],\n",
       "       [    22,  55000],\n",
       "       [    27,  20000],\n",
       "       [    59,  76000],\n",
       "       [    41,  51000],\n",
       "       [    28,  87000],\n",
       "       [    48,  33000],\n",
       "       [    47,  30000],\n",
       "       [    28, 123000],\n",
       "       [    38,  61000],\n",
       "       [    19,  70000],\n",
       "       [    33, 149000],\n",
       "       [    49,  86000],\n",
       "       [    40,  57000],\n",
       "       [    29,  43000],\n",
       "       [    49,  28000],\n",
       "       [    22,  81000],\n",
       "       [    48,  90000],\n",
       "       [    47,  50000],\n",
       "       [    26,  16000],\n",
       "       [    40,  47000],\n",
       "       [    37,  93000],\n",
       "       [    35,  75000],\n",
       "       [    57,  26000],\n",
       "       [    23,  82000],\n",
       "       [    29,  61000],\n",
       "       [    26,  80000],\n",
       "       [    37,  79000],\n",
       "       [    42,  64000],\n",
       "       [    48,  41000],\n",
       "       [    26,  15000],\n",
       "       [    27,  88000],\n",
       "       [    38,  65000],\n",
       "       [    18,  52000],\n",
       "       [    38,  61000],\n",
       "       [    53, 143000],\n",
       "       [    27, 137000],\n",
       "       [    49,  36000],\n",
       "       [    40,  78000],\n",
       "       [    24,  23000],\n",
       "       [    36, 118000],\n",
       "       [    32,  18000],\n",
       "       [    30,  87000],\n",
       "       [    43, 129000],\n",
       "       [    37,  71000],\n",
       "       [    41,  30000],\n",
       "       [    37,  70000],\n",
       "       [    52, 150000],\n",
       "       [    39,  71000],\n",
       "       [    42,  54000],\n",
       "       [    37,  75000],\n",
       "       [    28,  85000],\n",
       "       [    39, 134000],\n",
       "       [    53,  34000],\n",
       "       [    35,  23000],\n",
       "       [    35,  72000],\n",
       "       [    51, 146000],\n",
       "       [    40,  59000],\n",
       "       [    60,  42000],\n",
       "       [    59,  29000]], dtype=int64)"
      ]
     },
     "execution_count": 4,
     "metadata": {},
     "output_type": "execute_result"
    }
   ],
   "source": [
    "X_test"
   ]
  },
  {
   "cell_type": "markdown",
   "metadata": {},
   "source": [
    "## Feature Scaling"
   ]
  },
  {
   "cell_type": "code",
   "execution_count": 5,
   "metadata": {},
   "outputs": [],
   "source": [
    "from sklearn.preprocessing import StandardScaler\n",
    "Sc = StandardScaler()\n",
    "X_train=Sc.fit_transform(X_train)\n",
    "X_test = Sc.transform(X_test)"
   ]
  },
  {
   "cell_type": "markdown",
   "metadata": {},
   "source": [
    "## Training KNN model On Training Data"
   ]
  },
  {
   "cell_type": "code",
   "execution_count": 6,
   "metadata": {},
   "outputs": [
    {
     "data": {
      "text/plain": [
       "KNeighborsClassifier(algorithm='auto', leaf_size=30, metric='minkowski',\n",
       "                     metric_params=None, n_jobs=None, n_neighbors=5, p=2,\n",
       "                     weights='uniform')"
      ]
     },
     "execution_count": 6,
     "metadata": {},
     "output_type": "execute_result"
    }
   ],
   "source": [
    "from sklearn.neighbors import KNeighborsClassifier\n",
    "classifier=KNeighborsClassifier(n_neighbors=5,metric='minkowski',p=2 )\n",
    "classifier.fit(X_train,y_train)"
   ]
  },
  {
   "cell_type": "markdown",
   "metadata": {},
   "source": [
    "## Predict The New Result"
   ]
  },
  {
   "cell_type": "code",
   "execution_count": 7,
   "metadata": {},
   "outputs": [
    {
     "name": "stdout",
     "output_type": "stream",
     "text": [
      "[0]\n"
     ]
    }
   ],
   "source": [
    "print(classifier.predict(Sc.transform([[30,87000]])))"
   ]
  },
  {
   "cell_type": "markdown",
   "metadata": {},
   "source": [
    "\n",
    "## Predicting Test Set Result "
   ]
  },
  {
   "cell_type": "code",
   "execution_count": 8,
   "metadata": {},
   "outputs": [
    {
     "name": "stdout",
     "output_type": "stream",
     "text": [
      "[[0 0]\n",
      " [1 1]\n",
      " [0 0]\n",
      " [0 0]\n",
      " [0 1]\n",
      " [0 0]\n",
      " [0 1]\n",
      " [1 1]\n",
      " [0 0]\n",
      " [0 0]\n",
      " [0 0]\n",
      " [0 0]\n",
      " [0 0]\n",
      " [0 0]\n",
      " [0 0]\n",
      " [0 0]\n",
      " [0 0]\n",
      " [0 0]\n",
      " [1 1]\n",
      " [1 1]\n",
      " [0 0]\n",
      " [0 0]\n",
      " [0 0]\n",
      " [1 1]\n",
      " [0 0]\n",
      " [0 0]\n",
      " [1 1]\n",
      " [1 1]\n",
      " [1 1]\n",
      " [0 0]\n",
      " [0 0]\n",
      " [1 1]\n",
      " [1 1]\n",
      " [0 0]\n",
      " [0 0]\n",
      " [1 1]\n",
      " [0 0]\n",
      " [1 1]\n",
      " [1 1]\n",
      " [0 0]\n",
      " [0 0]\n",
      " [1 1]\n",
      " [0 0]\n",
      " [1 1]\n",
      " [0 0]\n",
      " [0 0]\n",
      " [0 0]\n",
      " [0 1]\n",
      " [0 0]\n",
      " [1 1]\n",
      " [0 0]\n",
      " [0 0]\n",
      " [0 0]\n",
      " [0 0]\n",
      " [0 0]\n",
      " [1 1]\n",
      " [1 1]\n",
      " [1 1]\n",
      " [0 0]\n",
      " [0 0]\n",
      " [1 1]\n",
      " [0 0]\n",
      " [0 0]\n",
      " [1 1]\n",
      " [0 0]\n",
      " [0 0]\n",
      " [0 1]\n",
      " [1 1]\n",
      " [0 0]\n",
      " [0 0]\n",
      " [0 0]\n",
      " [0 0]\n",
      " [1 1]\n",
      " [1 1]\n",
      " [0 0]\n",
      " [0 0]\n",
      " [1 1]\n",
      " [0 0]\n",
      " [1 1]\n",
      " [1 1]]\n"
     ]
    }
   ],
   "source": [
    "y_pred = classifier.predict(X_test)\n",
    "print(np.concatenate((y_pred.reshape(len(y_pred),1), y_test.reshape(len(y_test),1)),1))\n",
    "                 "
   ]
  },
  {
   "cell_type": "markdown",
   "metadata": {},
   "source": [
    "## Making the Confusion Matrix"
   ]
  },
  {
   "cell_type": "code",
   "execution_count": 9,
   "metadata": {},
   "outputs": [
    {
     "name": "stdout",
     "output_type": "stream",
     "text": [
      "[[49  0]\n",
      " [ 4 27]]\n",
      "0.95\n"
     ]
    }
   ],
   "source": [
    "from sklearn.metrics import confusion_matrix,accuracy_score\n",
    "cm=confusion_matrix(y_test,y_pred)\n",
    "print(cm)\n",
    "Score=accuracy_score(y_test,y_pred)\n",
    "print(Score)"
   ]
  },
  {
   "cell_type": "code",
   "execution_count": null,
   "metadata": {},
   "outputs": [],
   "source": []
  }
 ],
 "metadata": {
  "kernelspec": {
   "display_name": "Python 3",
   "language": "python",
   "name": "python3"
  },
  "language_info": {
   "codemirror_mode": {
    "name": "ipython",
    "version": 3
   },
   "file_extension": ".py",
   "mimetype": "text/x-python",
   "name": "python",
   "nbconvert_exporter": "python",
   "pygments_lexer": "ipython3",
   "version": "3.7.6"
  }
 },
 "nbformat": 4,
 "nbformat_minor": 4
}
